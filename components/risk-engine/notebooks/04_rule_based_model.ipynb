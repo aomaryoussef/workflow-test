{
 "cells": [
  {
   "cell_type": "markdown",
   "metadata": {},
   "source": [
    "# Imports\n"
   ]
  },
  {
   "cell_type": "code",
   "execution_count": 1,
   "metadata": {},
   "outputs": [],
   "source": [
    "import numpy as np\n",
    "import pandas as pd\n",
    "from datetime import datetime\n",
    "import yaml\n",
    "import sys\n",
    "import os\n",
    "import re\n",
    "import json\n",
    "from tqdm import tqdm\n",
    "import warnings\n",
    "\n",
    "from pyspark.sql import functions as F\n",
    "from pyspark.sql.types import DateType, ArrayType, StringType\n",
    "from pyspark.sql.functions import udf, broadcast\n",
    "\n",
    "\n",
    "from optbinning import OptimalBinning, ContinuousOptimalBinning\n",
    "import category_encoders as ce\n",
    "from typing import List, Dict\n",
    "import shap\n",
    "import lightgbm as lgb\n",
    "import scipy\n",
    "from scipy.stats import spearmanr, pearsonr, kendalltau, pointbiserialr, f_oneway\n",
    "from statsmodels.stats.outliers_influence import variance_inflation_factor\n",
    "\n",
    "from sklearn.model_selection import StratifiedKFold, train_test_split, KFold\n",
    "from sklearn.decomposition import PCA\n",
    "from sklearn.feature_selection import chi2\n",
    "from sklearn.base import BaseEstimator, TransformerMixin\n",
    "from sklearn.preprocessing import OneHotEncoder, LabelEncoder, MinMaxScaler\n",
    "from sklearn.metrics import roc_auc_score, precision_recall_curve, mean_squared_error, mean_absolute_error, mean_absolute_percentage_error\n",
    "\n",
    "import seaborn as sns\n",
    "import matplotlib.pyplot as plt\n",
    "import plotly.graph_objects as go\n",
    "import plotly.figure_factory as ff\n",
    "import joblib"
   ]
  },
  {
   "cell_type": "code",
   "execution_count": 2,
   "metadata": {},
   "outputs": [],
   "source": [
    "# paths and custom modules\n",
    "cwd_path = os.getcwd()\n",
    "data_path = cwd_path+'/data/'\n",
    "objects_path = cwd_path+'/objects/'\n",
    "sys.path.append(os.path.dirname(cwd_path))\n",
    "\n",
    "from utils import *\n",
    "\n",
    "data_catalog, models_catalog = return_catalog()"
   ]
  },
  {
   "cell_type": "code",
   "execution_count": 3,
   "metadata": {},
   "outputs": [
    {
     "data": {
      "text/html": [
       "\n",
       "            <div>\n",
       "                <p><b>SparkSession - in-memory</b></p>\n",
       "                \n",
       "        <div>\n",
       "            <p><b>SparkContext</b></p>\n",
       "\n",
       "            <p><a href=\"http://amr-tawfik:4043\">Spark UI</a></p>\n",
       "\n",
       "            <dl>\n",
       "              <dt>Version</dt>\n",
       "                <dd><code>v3.5.1</code></dd>\n",
       "              <dt>Master</dt>\n",
       "                <dd><code>local[8]</code></dd>\n",
       "              <dt>AppName</dt>\n",
       "                <dd><code>Spark Test</code></dd>\n",
       "            </dl>\n",
       "        </div>\n",
       "        \n",
       "            </div>\n",
       "        "
      ],
      "text/plain": [
       "<pyspark.sql.session.SparkSession at 0x2bd4e8463c0>"
      ]
     },
     "execution_count": 3,
     "metadata": {},
     "output_type": "execute_result"
    }
   ],
   "source": [
    "# set the pyspark path to env excutable\n",
    "conda_env_path = sys.prefix\n",
    "os.environ['PYSPARK_PYTHON'] = os.path.join(conda_env_path, 'python')\n",
    "\n",
    "# build spark session\n",
    "spark = build_spark_session()\n",
    "spark"
   ]
  },
  {
   "cell_type": "markdown",
   "metadata": {},
   "source": [
    "# 2- Fetch\n"
   ]
  },
  {
   "cell_type": "code",
   "execution_count": 4,
   "metadata": {},
   "outputs": [],
   "source": [
    "# fetch data\n",
    "data_date = '20240810'\n",
    "\n",
    "# processed all features\n",
    "df_to_all_models = pd.read_parquet(data_path+f\"features_store/{data_date}_L1_processed_features.parquet\")"
   ]
  },
  {
   "cell_type": "markdown",
   "metadata": {},
   "source": [
    "# 3- Select Features\n"
   ]
  },
  {
   "cell_type": "code",
   "execution_count": 5,
   "metadata": {},
   "outputs": [],
   "source": [
    "## Selecting features that will be consumed by the pd model (FS 1st-variation)\n",
    "\n",
    "pd_raw_df = df_to_all_models[[\n",
    "    'client_id',\n",
    "    # 'ssn',\n",
    "    # 'phone_number_1',\n",
    "    # 'phone_number_2',\n",
    "    # 'flag_is_mc_customer',\n",
    "    #'flag_is_prv_cash_trx',\n",
    "    # 'flag_is_rescore',\n",
    "    #'job_name_map',\n",
    "    'job_type',\n",
    "    # 'insurance_type',\n",
    "    'marital_status',\n",
    "    #'children_count',\n",
    "    #'address_governorate',\n",
    "    #'address_city',\n",
    "    'address_area',\n",
    "    'house_type',\n",
    "    #'mobile_os_type',\n",
    "    #'days_since_contract',\n",
    "    #'have_car',\n",
    "    'car_model_category',\n",
    "    'have_club_id',\n",
    "    'ssn_is_male',\n",
    "    'ssn_governorate',\n",
    "    'age_at_contract',\n",
    "    #'net_income_first',\n",
    "    # 'net_income',\n",
    "    # 'net_burden',\n",
    "    'net_income_inflated',\n",
    "    #'income_predics', # data from income model\n",
    "    'net_burden_inflated',\n",
    "    #'is_net_income_inflated_in_range', #proxy feature\n",
    "    #'ss_min_income',\n",
    "    #'ss_max_income',\n",
    "    'is_iscore',\n",
    "    'iscore_score',\n",
    "    # 'is_iscore_new_format',\n",
    "    # 'OpenAccounts_count',\n",
    "    # 'OpenAccounts_ApprovalAmount_sum',\n",
    "    # 'OpenAccounts_ApprovalAmount_sum_pofi',\n",
    "    # 'OpenAccounts_BalanceAmount_sum',\n",
    "    # 'OpenAccounts_BalanceAmount_sum_pofi',\n",
    "    # 'OpenAccounts_InstallmentAmount_sum',\n",
    "    # 'OpenAccounts_InstallmentAmount_sum_pofi',\n",
    "    # 'OpenAccounts_MaxDaysDue_sum',\n",
    "    # 'ClosedAccounts_count',\n",
    "    # 'ClosedAccounts_ApprovalAmount_sum',\n",
    "    # 'ClosedAccounts_ApprovalAmount_sum_pofi',\n",
    "    # 'ClosedAccounts_InstallmentAmount_sum',\n",
    "    # 'ClosedAccounts_InstallmentAmount_sum_pofi',\n",
    "    # 'ClosedAccounts_MaxDaysDue_sum',\n",
    "    # 'days_from_first_trx',\n",
    "    # 'days_from_last_trx',\n",
    "    # 'n_trx_online',\n",
    "    # 'n_trx_branch',\n",
    "    # 'net_sales_pos',\n",
    "    # 'net_sales_pos_pofi',\n",
    "    # 'net_sales_neg',\n",
    "    # 'net_sales_neg_pofi',\n",
    "    # 'net_qty_pos',\n",
    "    # 'net_qty_neg',\n",
    "    #'first_ord_dbr',\n",
    "    #'first_ord_tenor',\n",
    "    'fo_par90_flag',\n",
    "    ]].copy()"
   ]
  },
  {
   "cell_type": "markdown",
   "metadata": {},
   "source": [
    "# 4- TTS"
   ]
  },
  {
   "cell_type": "code",
   "execution_count": 6,
   "metadata": {},
   "outputs": [
    {
     "name": "stdout",
     "output_type": "stream",
     "text": [
      "(634852, 15) (158713, 15)\n"
     ]
    }
   ],
   "source": [
    "# save identifier\n",
    "client_id = 'client_id'\n",
    "# select target\n",
    "target = 'target'\n",
    "\n",
    "# split data into train and test sets\n",
    "X = pd_raw_df.drop([client_id], axis=1)\n",
    "X_train, X_test = train_test_split(X, test_size=0.2, random_state=2)\n",
    "\n",
    "# create full_train and full_test dataframes\n",
    "full_train = pd.concat([pd_raw_df.loc[X_train.index, client_id], X_train], axis=1)\n",
    "full_test = pd.concat([pd_raw_df.loc[X_test.index, client_id], X_test], axis=1)\n",
    "\n",
    "print(full_train.shape, full_test.shape)\n",
    "\n",
    "# copy before transformations\n",
    "full_train_org = full_train.copy()\n",
    "full_test_org = full_test.copy()"
   ]
  },
  {
   "cell_type": "markdown",
   "metadata": {},
   "source": [
    "# 5- Transformations & FE"
   ]
  },
  {
   "cell_type": "code",
   "execution_count": 7,
   "metadata": {},
   "outputs": [],
   "source": [
    "# copy before transformations\n",
    "full_train = full_train_org.copy()\n",
    "full_test = full_test_org.copy()\n",
    "df = pd.concat([full_train, full_test]).reset_index(drop=True)\n",
    "#\n",
    "numerical_cols = get_cols_by_type(X_train, 'numerical')\n",
    "\n",
    "cat_cols = get_cols_by_type(X_train, 'categorical')\n",
    "\n",
    "columns_to_trans_woe = ['job_name_map', 'address_governorate', 'address_city',\n",
    "                        'address_area', 'ssn_governorate']\n",
    "columns_to_trans_oh = ['marital_status', 'job_type',\n",
    "                        'house_type', 'car_model_category']"
   ]
  },
  {
   "cell_type": "markdown",
   "metadata": {},
   "source": [
    "# 6- Model Build"
   ]
  },
  {
   "cell_type": "markdown",
   "metadata": {},
   "source": [
    "### With Iscore"
   ]
  },
  {
   "cell_type": "code",
   "execution_count": 8,
   "metadata": {},
   "outputs": [],
   "source": [
    "df_with = df[df['is_iscore'] == 1].copy()\n",
    "\n",
    "#\n",
    "iscore_rules = [\n",
    "    ((df_with['iscore_score'] > 724), 30),\n",
    "    ((df_with['iscore_score'] <= 724) & (df_with['iscore_score'] > 650), 25),\n",
    "    ((df_with['iscore_score'] <= 650) & (df_with['iscore_score'] > 600), 20),\n",
    "    ((df_with['iscore_score'] <= 600) & (df_with['iscore_score'] > 550), 15),\n",
    "    ((df_with['iscore_score'] <= 550) & (df_with['iscore_score'] > 1), 0)\n",
    "    ]\n",
    "conditions, choices = zip(*iscore_rules)\n",
    "df_with['sp_iscore'] = np.select(conditions, choices, default=0)\n",
    "\n",
    "#\n",
    "age_rules = [\n",
    "    ((df_with['age_at_contract'] <= 50) & (df_with['age_at_contract'] > 35), 5),\n",
    "    ((df_with['age_at_contract'] <= 35) & (df_with['age_at_contract'] > 25), 4),\n",
    "    ((df_with['age_at_contract'] <= 60) & (df_with['age_at_contract'] > 50), 3),\n",
    "    ((df_with['age_at_contract'] <= 25), 2),\n",
    "    ((df_with['age_at_contract'] > 60), 2)\n",
    "    ]\n",
    "conditions, choices = zip(*age_rules)\n",
    "df_with['sp_age'] = np.select(conditions, choices, default=2)\n",
    "\n",
    "#\n",
    "marital_rules = [\n",
    "    ((df_with['marital_status'] == 'متزوج'), 5),\n",
    "    ((df_with['marital_status'] == 'ارمل'), 4),\n",
    "    ((df_with['marital_status'] == 'غير متزوج'), 3),\n",
    "    ((df_with['marital_status'] == 'مطلق'), 2)\n",
    "    ]\n",
    "conditions, choices = zip(*marital_rules)\n",
    "df_with['sp_marital_status'] = np.select(conditions, choices, default=2)\n",
    "\n",
    "#\n",
    "job_rules = [\n",
    "    ((df_with['job_type'] == 'Crafts'), 1),\n",
    "    ((df_with['job_type'] == 'Gov'), 6),\n",
    "    ((df_with['job_type'] == 'Pension'), 3),\n",
    "    ((df_with['job_type'] == 'Priv'), 5),\n",
    "    ((df_with['job_type'] == 'Prime entities'), 7),\n",
    "    ((df_with['job_type'] == 'Student'), 2),\n",
    "    ((df_with['job_type'] == 'Celebrities'), 4)\n",
    "    ]\n",
    "conditions, choices = zip(*job_rules)\n",
    "df_with['sp_job_type'] = np.select(conditions, choices, default=1)\n",
    "\n",
    "#\n",
    "df_with['sp_area'] = 3 # this need to be changed in the next iteration.\n",
    "\n",
    "#\n",
    "house_type_rules = [\n",
    "    ((df_with['house_type'] == 'تمليك'), 5),\n",
    "    ((df_with['house_type'] == 'ايجار جديد'), 2),\n",
    "    ((df_with['house_type'] == 'ايجار قديم'), 4)\n",
    "    ]\n",
    "conditions, choices = zip(*house_type_rules)\n",
    "df_with['sp_house_type'] = np.select(conditions, choices, default=1)\n",
    "\n",
    "#\n",
    "car_model_rules = [\n",
    "    ((df_with['car_model_category'] == 'Modern'), 5),\n",
    "    ((df_with['car_model_category'] == 'Mid'), 3),\n",
    "    ((df_with['car_model_category'] == 'Antique'), 2)\n",
    "    ]\n",
    "conditions, choices = zip(*car_model_rules)\n",
    "df_with['sp_car_model'] = np.select(conditions, choices, default=0)\n",
    "\n",
    "#\n",
    "club_rules = [\n",
    "    ((df_with['have_club_id'] == 1), 4),\n",
    "    ]\n",
    "conditions, choices = zip(*club_rules)\n",
    "df_with['sp_club_membership'] = np.select(conditions, choices, default=0)\n",
    "\n",
    "#\n",
    "income_rules = [\n",
    "    ((df_with['net_income_inflated'] > 30000), 25),\n",
    "    ((df_with['net_income_inflated'] <= 30000) & (df_with['net_income_inflated'] > 15000), 20),\n",
    "    ((df_with['net_income_inflated'] <= 15000) & (df_with['net_income_inflated'] > 4000), 15),\n",
    "    ((df_with['net_income_inflated'] <= 4000), 10)\n",
    "    ]\n",
    "conditions, choices = zip(*income_rules)\n",
    "df_with['sp_income'] = np.select(conditions, choices, default=10)\n",
    "\n",
    "#\n",
    "burden_rules = [\n",
    "    ((df_with['net_burden_inflated'] > 5000), 3),\n",
    "    ((df_with['net_burden_inflated'] <= 5000) & (df_with['net_burden_inflated'] > 3000), 5),\n",
    "    ((df_with['net_burden_inflated'] <= 3000) & (df_with['net_burden_inflated'] > 2000), 7),\n",
    "    ((df_with['net_burden_inflated'] <= 2000), 10)\n",
    "    ]\n",
    "conditions, choices = zip(*burden_rules)\n",
    "df_with['sp_burden'] = np.select(conditions, choices, default=10)"
   ]
  },
  {
   "cell_type": "markdown",
   "metadata": {},
   "source": [
    "### With Iscore"
   ]
  },
  {
   "cell_type": "code",
   "execution_count": 9,
   "metadata": {},
   "outputs": [],
   "source": [
    "df_without = df[df['is_iscore'] == 0].copy()\n",
    "\n",
    "#\n",
    "age_rules = [\n",
    "    ((df_without['age_at_contract'] <= 50) & (df_without['age_at_contract'] > 35), 5),\n",
    "    ((df_without['age_at_contract'] <= 35) & (df_without['age_at_contract'] > 25), 4),\n",
    "    ((df_without['age_at_contract'] <= 60) & (df_without['age_at_contract'] > 50), 3),\n",
    "    ((df_without['age_at_contract'] <= 25), 2),\n",
    "    ((df_without['age_at_contract'] > 60), 2)\n",
    "    ]\n",
    "conditions, choices = zip(*age_rules)\n",
    "df_without['sp_age'] = np.select(conditions, choices, default=2)\n",
    "\n",
    "#\n",
    "marital_rules = [\n",
    "    ((df_without['marital_status'] == 'متزوج'), 5),\n",
    "    ((df_without['marital_status'] == 'ارمل'), 4),\n",
    "    ((df_without['marital_status'] == 'غير متزوج'), 3),\n",
    "    ((df_without['marital_status'] == 'مطلق'), 2)\n",
    "    ]\n",
    "conditions, choices = zip(*marital_rules)\n",
    "df_without['sp_marital_status'] = np.select(conditions, choices, default=2)\n",
    "\n",
    "#\n",
    "job_rules = [\n",
    "    ((df_without['job_type'] == 'Crafts'), 1),\n",
    "    ((df_without['job_type'] == 'Gov'), 8),\n",
    "    ((df_without['job_type'] == 'Pension'), 4),\n",
    "    ((df_without['job_type'] == 'Priv'), 7),\n",
    "    ((df_without['job_type'] == 'Prime entities'), 10),\n",
    "    ((df_without['job_type'] == 'Student'), 2),\n",
    "    ((df_without['job_type'] == 'Celebrities'), 5)\n",
    "    ]\n",
    "conditions, choices = zip(*job_rules)\n",
    "df_without['sp_job_type'] = np.select(conditions, choices, default=1)\n",
    "\n",
    "#\n",
    "df_without['sp_area'] = 3 # this need to be changed in the next iteration.\n",
    "\n",
    "#\n",
    "house_type_rules = [\n",
    "    ((df_without['house_type'] == 'تمليك'), 5),\n",
    "    ((df_without['house_type'] == 'ايجار جديد'), 2),\n",
    "    ((df_without['house_type'] == 'ايجار قديم'), 4)\n",
    "    ]\n",
    "conditions, choices = zip(*house_type_rules)\n",
    "df_without['sp_house_type'] = np.select(conditions, choices, default=1)\n",
    "\n",
    "#\n",
    "car_model_rules = [\n",
    "    ((df_without['car_model_category'] == 'Modern'), 5),\n",
    "    ((df_without['car_model_category'] == 'Mid'), 3),\n",
    "    ((df_without['car_model_category'] == 'Antique'), 2)\n",
    "    ]\n",
    "conditions, choices = zip(*car_model_rules)\n",
    "df_without['sp_car_model'] = np.select(conditions, choices, default=0)\n",
    "\n",
    "#\n",
    "club_rules = [ # how do I get levels?\n",
    "    ((df_without['have_club_id'] == 1), 5),\n",
    "    ]\n",
    "conditions, choices = zip(*club_rules)\n",
    "df_without['sp_club_membership'] = np.select(conditions, choices, default=0)\n",
    "\n",
    "#\n",
    "income_rules = [\n",
    "    ((df_without['net_income_inflated'] > 30000), 40),\n",
    "    ((df_without['net_income_inflated'] <= 30000) & (df_without['net_income_inflated'] > 15000), 30),\n",
    "    ((df_without['net_income_inflated'] <= 15000) & (df_without['net_income_inflated'] > 4000), 20),\n",
    "    ((df_without['net_income_inflated'] <= 4000), 10)\n",
    "    ]\n",
    "conditions, choices = zip(*income_rules)\n",
    "df_without['sp_income'] = np.select(conditions, choices, default=10)\n",
    "\n",
    "#\n",
    "burden_rules = [\n",
    "    ((df_without['net_burden_inflated'] > 5000), 5),\n",
    "    ((df_without['net_burden_inflated'] <= 5000) & (df_without['net_burden_inflated'] > 3000), 10),\n",
    "    ((df_without['net_burden_inflated'] <= 3000) & (df_without['net_burden_inflated'] > 2000), 15),\n",
    "    ((df_without['net_burden_inflated'] <= 2000), 20)\n",
    "    ]\n",
    "conditions, choices = zip(*burden_rules)\n",
    "df_without['sp_burden'] = np.select(conditions, choices, default=20)"
   ]
  },
  {
   "cell_type": "code",
   "execution_count": 10,
   "metadata": {},
   "outputs": [],
   "source": [
    "# Calculate Score & Senthetic pd\n",
    "df_sp = pd.concat([df_with, df_without], axis=0)\n",
    "df_sp['sp_f_score'] = df_sp.filter(like='sp_').sum(axis=1)\n",
    "df_sp['sp_f_score'] = df_sp['sp_f_score'].clip(upper=100)\n",
    "\n",
    "def convert_score_to_probability(score):\n",
    "    return (100 - score) / 100\n",
    "\n",
    "df_sp['sp_f_pd'] = df_sp['sp_f_score'].apply(convert_score_to_probability)"
   ]
  },
  {
   "cell_type": "markdown",
   "metadata": {},
   "source": [
    "### EOD Process"
   ]
  },
  {
   "cell_type": "code",
   "execution_count": 11,
   "metadata": {},
   "outputs": [],
   "source": [
    "df_sp = convert_dtypes_std(df_sp.copy())"
   ]
  },
  {
   "cell_type": "markdown",
   "metadata": {},
   "source": [
    "### Metrics & Analysis"
   ]
  },
  {
   "cell_type": "code",
   "execution_count": 12,
   "metadata": {},
   "outputs": [
    {
     "name": "stdout",
     "output_type": "stream",
     "text": [
      "Gini:  0.048\n"
     ]
    }
   ],
   "source": [
    "print('Gini: ', calc_gini(df_sp['fo_par90_flag'], df_sp['sp_f_pd']).round(3))"
   ]
  },
  {
   "cell_type": "code",
   "execution_count": 13,
   "metadata": {},
   "outputs": [
    {
     "data": {
      "image/png": "[encoded data removed]",
      "text/plain": [
       "<Figure size 1000x600 with 1 Axes>"
      ]
     },
     "metadata": {},
     "output_type": "display_data"
    }
   ],
   "source": [
    "plot_probability_distribution(df_sp['fo_par90_flag'], df_sp['sp_f_pd'], 0.7, 0.7)"
   ]
  },
  {
   "cell_type": "code",
   "execution_count": 14,
   "metadata": {},
   "outputs": [
    {
     "data": {
      "image/png": "[encoded data removed]",
      "text/plain": [
       "<Figure size 1000x700 with 2 Axes>"
      ]
     },
     "metadata": {},
     "output_type": "display_data"
    },
    {
     "name": "stdout",
     "output_type": "stream",
     "text": [
      "Precision: 12.07%\n",
      "Recall: 0.04%\n",
      "Approval rate: 99.98%\n"
     ]
    }
   ],
   "source": [
    "calc_class_metrics_iv(df_sp['fo_par90_flag'],\n",
    "                        df_sp['sp_f_pd'],\n",
    "                        score_cutoff=0.65,\n",
    "                        normalize=False)"
   ]
  },
  {
   "cell_type": "markdown",
   "metadata": {},
   "source": [
    "# 8- Exports"
   ]
  },
  {
   "cell_type": "code",
   "execution_count": 15,
   "metadata": {},
   "outputs": [],
   "source": [
    "df_out = df_sp.rename({'sp_f_score': 'predics_score',\n",
    "                       'sp_f_pd':'predics_pd'}, axis=1)\n",
    "df_out = df_out[['client_id', 'predics_score', 'predics_pd']].reset_index(drop=True)"
   ]
  },
  {
   "cell_type": "code",
   "execution_count": 16,
   "metadata": {},
   "outputs": [],
   "source": [
    "df_out.to_parquet(data_path+f'/models_preds/{data_date}_rule_based_v01_predics.parquet')"
   ]
  }
 ],
 "metadata": {
  "kernelspec": {
   "display_name": "env_local_37",
   "language": "python",
   "name": "python3"
  },
  "language_info": {
   "codemirror_mode": {
    "name": "ipython",
    "version": 3
   },
   "file_extension": ".py",
   "mimetype": "text/x-python",
   "name": "python",
   "nbconvert_exporter": "python",
   "pygments_lexer": "ipython3",
   "version": "3.12.4"
  }
 },
 "nbformat": 4,
 "nbformat_minor": 2
}
